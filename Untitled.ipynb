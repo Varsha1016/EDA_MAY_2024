{
 "cells": [
  {
   "cell_type": "code",
   "execution_count": 10,
   "id": "14fa2cce-9725-44e2-9639-b0d956d35139",
   "metadata": {},
   "outputs": [
    {
     "name": "stdout",
     "output_type": "stream",
     "text": [
      "🟧🟧🟧🟧🟧🟧🟧🟧🟧🟧🟧🟧🟧🟧🟧\n",
      "🟧🟧🟧🟧🟧🟧🟧🟧🟧🟧🟧🟧🟧🟧🟧\n",
      "🟧🟧🟧🟧🟧🟧🟧🟧🟧🟧🟧🟧🟧🟧🟧\n",
      "⬜⬜⬜⬜⬜⬜🔵⬜⬜⬜⬜⬜⬜⬜⬜\n",
      "⬜⬜⬜⬜⬜⬜🔵⬜⬜⬜⬜⬜⬜⬜⬜\n",
      "⬜⬜⬜⬜⬜⬜🔵⬜⬜⬜⬜⬜⬜⬜⬜\n",
      "🟩🟩🟩🟩🟩🟩🟩🟩🟩🟩🟩🟩🟩🟩🟩\n",
      "🟩🟩🟩🟩🟩🟩🟩🟩🟩🟩🟩🟩🟩🟩🟩\n",
      "🟩🟩🟩🟩🟩🟩🟩🟩🟩🟩🟩🟩🟩🟩🟩\n",
      "\n",
      "Happy 78th Independence Day, India!\n"
     ]
    }
   ],
   "source": [
    "def draw_flag():\n",
    "    for _ in range(3):\n",
    "        print(\"🟧\" * 15)\n",
    "    for _ in range(3):\n",
    "        print(\"⬜\" * 6 + \"🔵\" + \"⬜\" * 8)\n",
    "    for _ in range(3):\n",
    "        print(\"🟩\" * 15)\n",
    "def print_message():\n",
    "    print(\"\\nHappy 78th Independence Day, India!\")\n",
    "draw_flag()\n",
    "print_message()"
   ]
  },
  {
   "cell_type": "code",
   "execution_count": null,
   "id": "3d070914-bebb-4c35-ad47-414ddaa1babd",
   "metadata": {},
   "outputs": [],
   "source": []
  }
 ],
 "metadata": {
  "kernelspec": {
   "display_name": "Python 3 (ipykernel)",
   "language": "python",
   "name": "python3"
  },
  "language_info": {
   "codemirror_mode": {
    "name": "ipython",
    "version": 3
   },
   "file_extension": ".py",
   "mimetype": "text/x-python",
   "name": "python",
   "nbconvert_exporter": "python",
   "pygments_lexer": "ipython3",
   "version": "3.11.7"
  }
 },
 "nbformat": 4,
 "nbformat_minor": 5
}
